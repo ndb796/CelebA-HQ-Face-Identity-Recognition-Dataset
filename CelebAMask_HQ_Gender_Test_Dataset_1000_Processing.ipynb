{
  "nbformat": 4,
  "nbformat_minor": 0,
  "metadata": {
    "colab": {
      "name": "CelebAMask HQ Gender Test Dataset 1000 Processing",
      "provenance": [],
      "collapsed_sections": [],
      "toc_visible": true,
      "authorship_tag": "ABX9TyOaO7nVKQeD1iRJ35PRUESo"
    },
    "kernelspec": {
      "name": "python3",
      "display_name": "Python 3"
    },
    "accelerator": "GPU"
  },
  "cells": [
    {
      "cell_type": "markdown",
      "metadata": {
        "id": "t1NpoZlml-e-"
      },
      "source": [
        "#### <b>Load Dataset</b>"
      ]
    },
    {
      "cell_type": "code",
      "metadata": {
        "id": "-hn1PjXgl_6o"
      },
      "source": [
        "%%capture\r\n",
        "!wget https://postechackr-my.sharepoint.com/:u:/g/personal/dongbinna_postech_ac_kr/EZjUnU2vtQBMgiE6VDtwCHsBCoEpSC5Q8mIwJjjGieEe1w?download=1 -O CelebA_HQ_face_gender_dataset_test.zip\r\n",
        "!unzip CelebA_HQ_face_gender_dataset_test.zip -d ./CelebA_HQ_face_gender_dataset_test"
      ],
      "execution_count": 1,
      "outputs": []
    },
    {
      "cell_type": "markdown",
      "metadata": {
        "id": "94ipfWTanbge"
      },
      "source": [
        "#### <b>Generate Dataset</b>"
      ]
    },
    {
      "cell_type": "code",
      "metadata": {
        "id": "nrgNM95jng9c"
      },
      "source": [
        "import os\r\n",
        "from shutil import copyfile"
      ],
      "execution_count": 2,
      "outputs": []
    },
    {
      "cell_type": "code",
      "metadata": {
        "id": "YYamheosmJ67"
      },
      "source": [
        "source_root = './CelebA_HQ_face_gender_dataset_test/male/'\r\n",
        "target_root = './gender_dataset/male/'\r\n",
        "file_list = os.listdir(source_root)\r\n",
        "\r\n",
        "for file in file_list[:500]:\r\n",
        "    source = os.path.join(source_root, file)\r\n",
        "    target = os.path.join(target_root, file)\r\n",
        "    if not os.path.exists(os.path.join(target_root)):\r\n",
        "        os.makedirs(os.path.join(target_root))\r\n",
        "    copyfile(source, target)"
      ],
      "execution_count": 3,
      "outputs": []
    },
    {
      "cell_type": "code",
      "metadata": {
        "id": "MXhnLSXanF-1"
      },
      "source": [
        "source_root = './CelebA_HQ_face_gender_dataset_test/female/'\r\n",
        "target_root = './gender_dataset/female/'\r\n",
        "file_list = os.listdir(source_root)\r\n",
        "\r\n",
        "for file in file_list[:500]:\r\n",
        "    source = os.path.join(source_root, file)\r\n",
        "    target = os.path.join(target_root, file)\r\n",
        "    if not os.path.exists(os.path.join(target_root)):\r\n",
        "        os.makedirs(os.path.join(target_root))\r\n",
        "    copyfile(source, target)"
      ],
      "execution_count": 4,
      "outputs": []
    },
    {
      "cell_type": "markdown",
      "metadata": {
        "id": "sW6VGKzPoMb8"
      },
      "source": [
        "#### <b>Save Processed Dataset</b>"
      ]
    },
    {
      "cell_type": "code",
      "metadata": {
        "id": "PVC1nLKDoUoj"
      },
      "source": [
        "os.rename('./gender_dataset', './CelebA_HQ_face_gender_dataset_test_1000')"
      ],
      "execution_count": 5,
      "outputs": []
    },
    {
      "cell_type": "code",
      "metadata": {
        "id": "LUsJLEc6oOA6"
      },
      "source": [
        "%%capture\r\n",
        "!zip -r CelebA_HQ_face_gender_dataset_test_1000.zip ./CelebA_HQ_face_gender_dataset_test_1000/"
      ],
      "execution_count": 6,
      "outputs": []
    }
  ]
}